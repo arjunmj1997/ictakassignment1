{
  "nbformat": 4,
  "nbformat_minor": 0,
  "metadata": {
    "colab": {
      "provenance": []
    },
    "kernelspec": {
      "name": "python3",
      "display_name": "Python 3"
    },
    "language_info": {
      "name": "python"
    }
  },
  "cells": [
    {
      "cell_type": "code",
      "execution_count": null,
      "metadata": {
        "colab": {
          "base_uri": "https://localhost:8080/"
        },
        "id": "k48V0O-bHLYD",
        "outputId": "cb7bbce5-a65c-4df1-8cf4-6b5c89848628"
      },
      "outputs": [
        {
          "output_type": "stream",
          "name": "stdout",
          "text": [
            "Enter a number4\n",
            "area of circle is 50.24\n"
          ]
        }
      ],
      "source": [
        "r=float(input(\"Enter a number\"))\n",
        "a=3.14*r*r\n",
        "print(\"area of circle is\",a)"
      ]
    },
    {
      "cell_type": "code",
      "source": [
        "name=input(\"Enter a Name\")\n",
        "mark=float(input(\"Enter the mark\"))\n",
        "roll=int(input(\"Enter the rollno\"))\n",
        "print(\"Name:\",name)\n",
        "print(\"Mark:\",mark)\n",
        "print(\"Rollno:\",roll)"
      ],
      "metadata": {
        "colab": {
          "base_uri": "https://localhost:8080/"
        },
        "id": "-qfmQCyVKYAM",
        "outputId": "fbac83b3-dc71-4c9e-a9ba-62cee95d0491"
      },
      "execution_count": null,
      "outputs": [
        {
          "output_type": "stream",
          "name": "stdout",
          "text": [
            "Enter a NameArjun\n",
            "Enter the mark45\n",
            "Enter the rollno3\n",
            "Name: Arjun\n",
            "Mark: 45.0\n",
            "Rollno: 3\n"
          ]
        }
      ]
    },
    {
      "cell_type": "code",
      "source": [
        "list=[12,13,47,10]\n",
        "m=max(list)\n",
        "print(m)"
      ],
      "metadata": {
        "colab": {
          "base_uri": "https://localhost:8080/"
        },
        "id": "8c2AMOaCLKgw",
        "outputId": "dbbd836e-3ddd-44b3-cbdc-ee9c2712a307"
      },
      "execution_count": null,
      "outputs": [
        {
          "output_type": "stream",
          "name": "stdout",
          "text": [
            "47\n"
          ]
        }
      ]
    },
    {
      "cell_type": "code",
      "source": [
        "s=0\n",
        "for i in range(0,10):\n",
        "  s=i+1\n",
        "  sum=s+i\n",
        "  print(sum)"
      ],
      "metadata": {
        "colab": {
          "base_uri": "https://localhost:8080/"
        },
        "id": "26SUO5gmM1Wd",
        "outputId": "7a8d47cf-5fc9-47a2-cd8e-45361c962b46"
      },
      "execution_count": null,
      "outputs": [
        {
          "output_type": "stream",
          "name": "stdout",
          "text": [
            "1\n",
            "3\n",
            "5\n",
            "7\n",
            "9\n",
            "11\n",
            "13\n",
            "15\n",
            "17\n",
            "19\n"
          ]
        }
      ]
    },
    {
      "cell_type": "code",
      "source": [
        "list=[20,35,60,36]\n",
        "for i in list:\n",
        "  if(i % 5 == 0):\n",
        "    print(i,\"is multiple of 5\")\n",
        "  else:\n",
        "      print(i,\"is not multiple of 5\")"
      ],
      "metadata": {
        "colab": {
          "base_uri": "https://localhost:8080/"
        },
        "id": "kkFs-7ZFG9M9",
        "outputId": "afdcba14-37a5-47aa-a69c-b7db46493edc"
      },
      "execution_count": null,
      "outputs": [
        {
          "output_type": "stream",
          "name": "stdout",
          "text": [
            "20 is multiple of 5\n",
            "35 is multiple of 5\n",
            "60 is multiple of 5\n",
            "36 is not multiple of 5\n"
          ]
        }
      ]
    },
    {
      "cell_type": "code",
      "source": [
        "n=int(input(\"Enter an integer\"))\n",
        "i=2\n",
        "prime=True\n",
        "while(n%i==0):\n",
        "  print(n,\"is not a prime number\")\n",
        "  prime=False\n",
        "  break\n",
        "  i+=1\n",
        "if(prime==True):\n",
        " print(n,\"is  a prime number\")\n"
      ],
      "metadata": {
        "colab": {
          "base_uri": "https://localhost:8080/"
        },
        "id": "0GQMhbZLpBW2",
        "outputId": "2177e3f2-3566-4380-c026-d72a8555f282"
      },
      "execution_count": null,
      "outputs": [
        {
          "output_type": "stream",
          "name": "stdout",
          "text": [
            "Enter an integer8\n",
            "8 is not a prime number\n"
          ]
        }
      ]
    },
    {
      "cell_type": "code",
      "source": [
        "list=[20,30,40,60]\n",
        "for i in range(3,-1,-1):\n",
        "  print(list[i])\n"
      ],
      "metadata": {
        "colab": {
          "base_uri": "https://localhost:8080/"
        },
        "id": "PL6Vs0I-5RCG",
        "outputId": "87028015-cb67-4d63-e15e-a659d9e4c838"
      },
      "execution_count": null,
      "outputs": [
        {
          "output_type": "stream",
          "name": "stdout",
          "text": [
            "60\n",
            "40\n",
            "30\n",
            "20\n"
          ]
        }
      ]
    },
    {
      "cell_type": "code",
      "source": [
        "for i in range(5):\n",
        "  for j in range(i):\n",
        "    print(\"*\",end=\"\")\n",
        "\n",
        "  print('')"
      ],
      "metadata": {
        "colab": {
          "base_uri": "https://localhost:8080/"
        },
        "id": "aCRacNIF7BdX",
        "outputId": "a909848f-776e-4555-bc38-4deea55e9449"
      },
      "execution_count": null,
      "outputs": [
        {
          "output_type": "stream",
          "name": "stdout",
          "text": [
            "\n",
            "*\n",
            "**\n",
            "***\n",
            "****\n"
          ]
        }
      ]
    },
    {
      "cell_type": "code",
      "source": [
        "a=int(input(\"Enter 1st numbers\"))\n",
        "b=int(input(\"Enter 2nd numbers\"))\n",
        "c=int(input(\"Enter 3rd numbers\"))\n",
        "if(a>b and a>c):\n",
        "  print(a,\"is bigger\")\n",
        "elif(b>c):\n",
        "  print(b,\"is bigger\")\n",
        "else:\n",
        "  print(c, \"is bigger\")"
      ],
      "metadata": {
        "colab": {
          "base_uri": "https://localhost:8080/"
        },
        "id": "pq5_ACmkA4pb",
        "outputId": "cfb460fe-e997-4269-bd7e-c2cc5a748ae1"
      },
      "execution_count": null,
      "outputs": [
        {
          "output_type": "stream",
          "name": "stdout",
          "text": [
            "Enter 1st numbers100\n",
            "Enter 2nd numbers250\n",
            "Enter 3rd numbers90\n",
            "250 is bigger\n"
          ]
        }
      ]
    },
    {
      "cell_type": "code",
      "source": [
        "for i in range(5):\n",
        "  for j in range(i):\n",
        "    print(\"*\",end=\"\")\n",
        "  print('')\n",
        "for p in range(5,-1,-1):\n",
        "  for k in range(p):\n",
        "    print(\"*\",end=\"\")\n",
        "  print('')"
      ],
      "metadata": {
        "colab": {
          "base_uri": "https://localhost:8080/"
        },
        "id": "b3K6MWVhESMI",
        "outputId": "f93a32dc-32cb-4d64-ae7c-c928a7a462a7"
      },
      "execution_count": null,
      "outputs": [
        {
          "output_type": "stream",
          "name": "stdout",
          "text": [
            "\n",
            "*\n",
            "**\n",
            "***\n",
            "****\n",
            "*****\n",
            "****\n",
            "***\n",
            "**\n",
            "*\n",
            "\n"
          ]
        }
      ]
    }
  ]
}